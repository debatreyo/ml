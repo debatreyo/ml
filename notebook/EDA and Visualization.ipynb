{
 "cells": [
  {
   "cell_type": "markdown",
   "id": "b22bc61e",
   "metadata": {},
   "source": [
    "# Student Performance Indicator\n",
    "\n",
    "---"
   ]
  },
  {
   "cell_type": "markdown",
   "id": "2779a026",
   "metadata": {},
   "source": [
    "## Problem Statement\n",
    "\n",
    "---"
   ]
  },
  {
   "cell_type": "markdown",
   "id": "00d1e053",
   "metadata": {},
   "source": [
    "> Test performance of students may depend on multiple factors and not merely on how the student prepared for it.\\\n",
    "> Goal of this project is to understand how various factors including student's **gender**, **ethnicity**, **parental level of education** etc impacts his/her test performance."
   ]
  },
  {
   "cell_type": "code",
   "execution_count": null,
   "id": "80ac4798",
   "metadata": {},
   "outputs": [],
   "source": []
  },
  {
   "cell_type": "markdown",
   "id": "fb1776a8",
   "metadata": {},
   "source": [
    "## Data Collection\n",
    "\n",
    "---"
   ]
  },
  {
   "cell_type": "markdown",
   "id": "9b240c81",
   "metadata": {},
   "source": [
    "### Dataset Source\n",
    "[Students Performance in Exams, Kaggle](https://www.kaggle.com/datasets/spscientist/students-performance-in-exams?datasetId=74977)\n",
    "\n",
    "### About the Dataset\n",
    "1. Includes marks secured by high school students in the United States of America (USA)\n",
    "\n",
    "|Feature/Column|Explanation|\n",
    "|:---:|:---:|\n",
    "|`gender`|Biological sex of student (Male/Female)|\n",
    "|`race_ethnicity`|Ethnicity of student (anonymized) $\\rightarrow$ Group A/B/C/D/E|\n",
    "|`parental_level_of_education`|Highest qualification of parents $\\rightarrow$ Bachelor's degree/Some college/Master's degree/Associate's degree/High school|\n",
    "|`lunch`|Type of lunch eaten by student before taking the test $\\rightarrow$ Standard or Free/reduced|\n",
    "|`test_preparation_course`|Whether student completed the test preparation materials before taking the test|\n",
    "|`math_score`||\n",
    "|`reading_score`||\n",
    "|`writing_score`||"
   ]
  },
  {
   "cell_type": "code",
   "execution_count": null,
   "id": "42857063",
   "metadata": {},
   "outputs": [],
   "source": []
  },
  {
   "cell_type": "markdown",
   "id": "bf139de7",
   "metadata": {},
   "source": [
    "### Importing Data and Required Libraries"
   ]
  },
  {
   "cell_type": "code",
   "execution_count": 1,
   "id": "c4a90e45",
   "metadata": {},
   "outputs": [],
   "source": [
    "# DEPENDENCIES \n",
    "\n",
    "# for numerical computations\n",
    "import numpy as np\n",
    "# for working with dataframes and `csv` files\n",
    "import pandas as pd\n",
    "# for data visualization\n",
    "import seaborn as sns\n",
    "import matplotlib.pyplot as plt\n",
    "%matplotlib inline\n",
    "\n",
    "# for suppressing warnings\n",
    "import warnings\n",
    "warnings.filterwarnings(\"ignore\")\n",
    "\n",
    "# for working with file paths\n",
    "from pathlib import Path"
   ]
  },
  {
   "cell_type": "code",
   "execution_count": 5,
   "id": "0934df42",
   "metadata": {},
   "outputs": [],
   "source": [
    "# DATA\n",
    "\n",
    "file_path = Path(\"data/stud.csv\")\n",
    "\n",
    "# load csv into dataframe\n",
    "dataset = pd.read_csv(file_path)"
   ]
  },
  {
   "cell_type": "markdown",
   "id": "429ed02c",
   "metadata": {},
   "source": [
    "### Getting to Know the Dataset"
   ]
  },
  {
   "cell_type": "code",
   "execution_count": 7,
   "id": "75dbbecf",
   "metadata": {},
   "outputs": [],
   "source": [
    "# make copy of dataframe to avoid accidental changes\n",
    "df = dataset.copy()"
   ]
  },
  {
   "cell_type": "code",
   "execution_count": 8,
   "id": "6d23ed6a",
   "metadata": {},
   "outputs": [
    {
     "data": {
      "text/html": [
       "<div>\n",
       "<style scoped>\n",
       "    .dataframe tbody tr th:only-of-type {\n",
       "        vertical-align: middle;\n",
       "    }\n",
       "\n",
       "    .dataframe tbody tr th {\n",
       "        vertical-align: top;\n",
       "    }\n",
       "\n",
       "    .dataframe thead th {\n",
       "        text-align: right;\n",
       "    }\n",
       "</style>\n",
       "<table border=\"1\" class=\"dataframe\">\n",
       "  <thead>\n",
       "    <tr style=\"text-align: right;\">\n",
       "      <th></th>\n",
       "      <th>gender</th>\n",
       "      <th>race_ethnicity</th>\n",
       "      <th>parental_level_of_education</th>\n",
       "      <th>lunch</th>\n",
       "      <th>test_preparation_course</th>\n",
       "      <th>math_score</th>\n",
       "      <th>reading_score</th>\n",
       "      <th>writing_score</th>\n",
       "    </tr>\n",
       "  </thead>\n",
       "  <tbody>\n",
       "    <tr>\n",
       "      <th>0</th>\n",
       "      <td>female</td>\n",
       "      <td>group B</td>\n",
       "      <td>bachelor's degree</td>\n",
       "      <td>standard</td>\n",
       "      <td>none</td>\n",
       "      <td>72</td>\n",
       "      <td>72</td>\n",
       "      <td>74</td>\n",
       "    </tr>\n",
       "    <tr>\n",
       "      <th>1</th>\n",
       "      <td>female</td>\n",
       "      <td>group C</td>\n",
       "      <td>some college</td>\n",
       "      <td>standard</td>\n",
       "      <td>completed</td>\n",
       "      <td>69</td>\n",
       "      <td>90</td>\n",
       "      <td>88</td>\n",
       "    </tr>\n",
       "    <tr>\n",
       "      <th>2</th>\n",
       "      <td>female</td>\n",
       "      <td>group B</td>\n",
       "      <td>master's degree</td>\n",
       "      <td>standard</td>\n",
       "      <td>none</td>\n",
       "      <td>90</td>\n",
       "      <td>95</td>\n",
       "      <td>93</td>\n",
       "    </tr>\n",
       "    <tr>\n",
       "      <th>3</th>\n",
       "      <td>male</td>\n",
       "      <td>group A</td>\n",
       "      <td>associate's degree</td>\n",
       "      <td>free/reduced</td>\n",
       "      <td>none</td>\n",
       "      <td>47</td>\n",
       "      <td>57</td>\n",
       "      <td>44</td>\n",
       "    </tr>\n",
       "    <tr>\n",
       "      <th>4</th>\n",
       "      <td>male</td>\n",
       "      <td>group C</td>\n",
       "      <td>some college</td>\n",
       "      <td>standard</td>\n",
       "      <td>none</td>\n",
       "      <td>76</td>\n",
       "      <td>78</td>\n",
       "      <td>75</td>\n",
       "    </tr>\n",
       "  </tbody>\n",
       "</table>\n",
       "</div>"
      ],
      "text/plain": [
       "   gender race_ethnicity parental_level_of_education         lunch  \\\n",
       "0  female        group B           bachelor's degree      standard   \n",
       "1  female        group C                some college      standard   \n",
       "2  female        group B             master's degree      standard   \n",
       "3    male        group A          associate's degree  free/reduced   \n",
       "4    male        group C                some college      standard   \n",
       "\n",
       "  test_preparation_course  math_score  reading_score  writing_score  \n",
       "0                    none          72             72             74  \n",
       "1               completed          69             90             88  \n",
       "2                    none          90             95             93  \n",
       "3                    none          47             57             44  \n",
       "4                    none          76             78             75  "
      ]
     },
     "execution_count": 8,
     "metadata": {},
     "output_type": "execute_result"
    }
   ],
   "source": [
    "# check top five rows\n",
    "df.head()"
   ]
  },
  {
   "cell_type": "code",
   "execution_count": 9,
   "id": "7da830f1",
   "metadata": {},
   "outputs": [
    {
     "name": "stdout",
     "output_type": "stream",
     "text": [
      "Dataset has 1000 samples and 8 features.\n"
     ]
    }
   ],
   "source": [
    "# check shape of dataset\n",
    "n_samples, n_features = df.shape\n",
    "\n",
    "print(f\"Dataset has {n_samples} samples and {n_features} features.\")"
   ]
  },
  {
   "cell_type": "markdown",
   "id": "cbc5f0e2",
   "metadata": {},
   "source": [
    "## Data Checks before EDA\n",
    "\n",
    "Following basic checks will be done to ensure hassle-free EDA ahead:\n",
    "1. Missing data\n",
    "2. Duplicate data\n",
    "3. Data type of columns\n",
    "4. No. of unique values per numeric column\n",
    "5. No. of unique categories per categorical column\n",
    "6. Basic statistics\n",
    "\n",
    "---"
   ]
  },
  {
   "cell_type": "markdown",
   "id": "fc70c980",
   "metadata": {},
   "source": [
    "### Check for Missing data"
   ]
  },
  {
   "cell_type": "code",
   "execution_count": 11,
   "id": "cbe3aee4",
   "metadata": {},
   "outputs": [
    {
     "data": {
      "text/plain": [
       "gender                         0\n",
       "race_ethnicity                 0\n",
       "parental_level_of_education    0\n",
       "lunch                          0\n",
       "test_preparation_course        0\n",
       "math_score                     0\n",
       "reading_score                  0\n",
       "writing_score                  0\n",
       "dtype: int64"
      ]
     },
     "execution_count": 11,
     "metadata": {},
     "output_type": "execute_result"
    }
   ],
   "source": [
    "# total missing data per column\n",
    "df.isnull().sum(axis=0)"
   ]
  },
  {
   "cell_type": "markdown",
   "id": "6abdbd01",
   "metadata": {},
   "source": [
    "### Check for Duplicates"
   ]
  },
  {
   "cell_type": "code",
   "execution_count": 14,
   "id": "88130e9c",
   "metadata": {},
   "outputs": [
    {
     "data": {
      "text/plain": [
       "0"
      ]
     },
     "execution_count": 14,
     "metadata": {},
     "output_type": "execute_result"
    }
   ],
   "source": [
    "# total duplicate entries\n",
    "df.duplicated().sum()"
   ]
  },
  {
   "cell_type": "markdown",
   "id": "3b4fe10e",
   "metadata": {},
   "source": [
    "### Data types of the Columns"
   ]
  },
  {
   "cell_type": "code",
   "execution_count": 15,
   "id": "7e77c8f4",
   "metadata": {},
   "outputs": [
    {
     "data": {
      "text/plain": [
       "gender                         object\n",
       "race_ethnicity                 object\n",
       "parental_level_of_education    object\n",
       "lunch                          object\n",
       "test_preparation_course        object\n",
       "math_score                      int64\n",
       "reading_score                   int64\n",
       "writing_score                   int64\n",
       "dtype: object"
      ]
     },
     "execution_count": 15,
     "metadata": {},
     "output_type": "execute_result"
    }
   ],
   "source": [
    "df.dtypes"
   ]
  },
  {
   "cell_type": "markdown",
   "id": "15e15038",
   "metadata": {},
   "source": [
    "### Unique Values/Categories per Column"
   ]
  },
  {
   "cell_type": "code",
   "execution_count": 18,
   "id": "25b2baa0",
   "metadata": {},
   "outputs": [
    {
     "data": {
      "text/plain": [
       "gender                          2\n",
       "race_ethnicity                  5\n",
       "parental_level_of_education     6\n",
       "lunch                           2\n",
       "test_preparation_course         2\n",
       "math_score                     81\n",
       "reading_score                  72\n",
       "writing_score                  77\n",
       "dtype: int64"
      ]
     },
     "execution_count": 18,
     "metadata": {},
     "output_type": "execute_result"
    }
   ],
   "source": [
    "# No. of unique values in each feature\n",
    "df.nunique()"
   ]
  },
  {
   "cell_type": "code",
   "execution_count": 24,
   "id": "2f2f5051",
   "metadata": {},
   "outputs": [
    {
     "name": "stdout",
     "output_type": "stream",
     "text": [
      "\n",
      "Categorical Column -> gender\n",
      "2 Unique categories:\n",
      "['female' 'male']\n",
      "\n",
      "Categorical Column -> race_ethnicity\n",
      "5 Unique categories:\n",
      "['group B' 'group C' 'group A' 'group D' 'group E']\n",
      "\n",
      "Categorical Column -> parental_level_of_education\n",
      "6 Unique categories:\n",
      "[\"bachelor's degree\" 'some college' \"master's degree\" \"associate's degree\"\n",
      " 'high school' 'some high school']\n",
      "\n",
      "Categorical Column -> lunch\n",
      "2 Unique categories:\n",
      "['standard' 'free/reduced']\n",
      "\n",
      "Categorical Column -> test_preparation_course\n",
      "2 Unique categories:\n",
      "['none' 'completed']\n"
     ]
    }
   ],
   "source": [
    "# unique categories\n",
    "categorical_cols = [\n",
    "    column\n",
    "    for column in df.columns\n",
    "    if df[column].dtype == \"O\"\n",
    "]\n",
    "\n",
    "for col in categorical_cols:\n",
    "    print(f\"\\nCategorical Column -> {col}\")\n",
    "    print(f\"{len(df[col].unique())} Unique categories:\\n{df[col].unique()}\")"
   ]
  },
  {
   "cell_type": "markdown",
   "id": "85a509f0",
   "metadata": {},
   "source": [
    "### Basic Statistics"
   ]
  },
  {
   "cell_type": "code",
   "execution_count": 26,
   "id": "a5f96199",
   "metadata": {},
   "outputs": [
    {
     "data": {
      "text/html": [
       "<div>\n",
       "<style scoped>\n",
       "    .dataframe tbody tr th:only-of-type {\n",
       "        vertical-align: middle;\n",
       "    }\n",
       "\n",
       "    .dataframe tbody tr th {\n",
       "        vertical-align: top;\n",
       "    }\n",
       "\n",
       "    .dataframe thead th {\n",
       "        text-align: right;\n",
       "    }\n",
       "</style>\n",
       "<table border=\"1\" class=\"dataframe\">\n",
       "  <thead>\n",
       "    <tr style=\"text-align: right;\">\n",
       "      <th></th>\n",
       "      <th>count</th>\n",
       "      <th>mean</th>\n",
       "      <th>std</th>\n",
       "      <th>min</th>\n",
       "      <th>25%</th>\n",
       "      <th>50%</th>\n",
       "      <th>75%</th>\n",
       "      <th>max</th>\n",
       "    </tr>\n",
       "  </thead>\n",
       "  <tbody>\n",
       "    <tr>\n",
       "      <th>math_score</th>\n",
       "      <td>1000.0</td>\n",
       "      <td>66.089</td>\n",
       "      <td>15.163080</td>\n",
       "      <td>0.0</td>\n",
       "      <td>57.00</td>\n",
       "      <td>66.0</td>\n",
       "      <td>77.0</td>\n",
       "      <td>100.0</td>\n",
       "    </tr>\n",
       "    <tr>\n",
       "      <th>reading_score</th>\n",
       "      <td>1000.0</td>\n",
       "      <td>69.169</td>\n",
       "      <td>14.600192</td>\n",
       "      <td>17.0</td>\n",
       "      <td>59.00</td>\n",
       "      <td>70.0</td>\n",
       "      <td>79.0</td>\n",
       "      <td>100.0</td>\n",
       "    </tr>\n",
       "    <tr>\n",
       "      <th>writing_score</th>\n",
       "      <td>1000.0</td>\n",
       "      <td>68.054</td>\n",
       "      <td>15.195657</td>\n",
       "      <td>10.0</td>\n",
       "      <td>57.75</td>\n",
       "      <td>69.0</td>\n",
       "      <td>79.0</td>\n",
       "      <td>100.0</td>\n",
       "    </tr>\n",
       "  </tbody>\n",
       "</table>\n",
       "</div>"
      ],
      "text/plain": [
       "                count    mean        std   min    25%   50%   75%    max\n",
       "math_score     1000.0  66.089  15.163080   0.0  57.00  66.0  77.0  100.0\n",
       "reading_score  1000.0  69.169  14.600192  17.0  59.00  70.0  79.0  100.0\n",
       "writing_score  1000.0  68.054  15.195657  10.0  57.75  69.0  79.0  100.0"
      ]
     },
     "execution_count": 26,
     "metadata": {},
     "output_type": "execute_result"
    }
   ],
   "source": [
    "# descriptive statistics of numerical columns\n",
    "df.describe().T"
   ]
  },
  {
   "cell_type": "markdown",
   "id": "2d3edc62",
   "metadata": {},
   "source": [
    "### Observations\n",
    "1. There are **no missing values** in the dataset\n",
    "2. There are **no duplicate entries** in the dataset\n",
    "3. Following are the data types:\n",
    "    - **Numeric columns**: `math_score`, `reading_score`, `writing_score`\n",
    "    - **Categorical columns**: `gender`, `race_ethnicity`, `parental_level_of_education`, `lunch`, `test_preparation_course`\n",
    "4. `parental_level_of_education` has 6 unique categories, but 2 of them indicate similar level of education $\\rightarrow$ 'high school' and 'some high school'\n",
    "5. `test_preparation_course` has an unique value 'none' which may indicate that the student did not have any test preparation materials\n",
    "6. Preliminary observations on **test scores** shows:\n",
    "    - **Mean** scores of students in all three tests are close to each other ($66.08, 69.16, 68.05$)\n",
    "    - **Standard deviation** of marks in all three tests are also similar ($15.16, 14.60, 15.19$)\n",
    "    - **Minimum** scores show greater variation:\n",
    "        - only Maths has min. score of zero\n",
    "        - remaining tests have seen atleast a score of $10$\n",
    "    - **Maximum** scores in all three tests is $100$\n",
    "    \n",
    "---"
   ]
  },
  {
   "cell_type": "markdown",
   "id": "7dce6492",
   "metadata": {},
   "source": [
    "## Exploratory Data Analysis (EDA)\n",
    "\n",
    "---"
   ]
  },
  {
   "cell_type": "code",
   "execution_count": 29,
   "id": "12c55a9a",
   "metadata": {},
   "outputs": [
    {
     "name": "stdout",
     "output_type": "stream",
     "text": [
      "Categorical columns -> ['gender', 'race_ethnicity', 'parental_level_of_education', 'lunch', 'test_preparation_course']\n",
      "\n",
      "Numeric columns -> ['math_score', 'reading_score', 'writing_score']\n"
     ]
    }
   ],
   "source": [
    "# separate out column names for easier analysis\n",
    "\n",
    "categorical_cols = [\n",
    "    col for col in df.columns\n",
    "    if df[col].dtype == \"O\"\n",
    "]\n",
    "\n",
    "numeric_cols = [\n",
    "    col for col in df.columns\n",
    "    if df[col].dtype != \"O\"\n",
    "]\n",
    "\n",
    "print(f\"Categorical columns -> {categorical_cols}\\n\\nNumeric columns -> {numeric_cols}\")"
   ]
  },
  {
   "cell_type": "markdown",
   "id": "207a6eab",
   "metadata": {},
   "source": [
    "### Adding New columns for better analysis"
   ]
  },
  {
   "cell_type": "code",
   "execution_count": 30,
   "id": "f2c307c9",
   "metadata": {},
   "outputs": [
    {
     "data": {
      "text/html": [
       "<div>\n",
       "<style scoped>\n",
       "    .dataframe tbody tr th:only-of-type {\n",
       "        vertical-align: middle;\n",
       "    }\n",
       "\n",
       "    .dataframe tbody tr th {\n",
       "        vertical-align: top;\n",
       "    }\n",
       "\n",
       "    .dataframe thead th {\n",
       "        text-align: right;\n",
       "    }\n",
       "</style>\n",
       "<table border=\"1\" class=\"dataframe\">\n",
       "  <thead>\n",
       "    <tr style=\"text-align: right;\">\n",
       "      <th></th>\n",
       "      <th>gender</th>\n",
       "      <th>race_ethnicity</th>\n",
       "      <th>parental_level_of_education</th>\n",
       "      <th>lunch</th>\n",
       "      <th>test_preparation_course</th>\n",
       "      <th>math_score</th>\n",
       "      <th>reading_score</th>\n",
       "      <th>writing_score</th>\n",
       "      <th>total_score</th>\n",
       "      <th>avg_score</th>\n",
       "    </tr>\n",
       "  </thead>\n",
       "  <tbody>\n",
       "    <tr>\n",
       "      <th>0</th>\n",
       "      <td>female</td>\n",
       "      <td>group B</td>\n",
       "      <td>bachelor's degree</td>\n",
       "      <td>standard</td>\n",
       "      <td>none</td>\n",
       "      <td>72</td>\n",
       "      <td>72</td>\n",
       "      <td>74</td>\n",
       "      <td>218</td>\n",
       "      <td>72.666667</td>\n",
       "    </tr>\n",
       "    <tr>\n",
       "      <th>1</th>\n",
       "      <td>female</td>\n",
       "      <td>group C</td>\n",
       "      <td>some college</td>\n",
       "      <td>standard</td>\n",
       "      <td>completed</td>\n",
       "      <td>69</td>\n",
       "      <td>90</td>\n",
       "      <td>88</td>\n",
       "      <td>247</td>\n",
       "      <td>82.333333</td>\n",
       "    </tr>\n",
       "    <tr>\n",
       "      <th>2</th>\n",
       "      <td>female</td>\n",
       "      <td>group B</td>\n",
       "      <td>master's degree</td>\n",
       "      <td>standard</td>\n",
       "      <td>none</td>\n",
       "      <td>90</td>\n",
       "      <td>95</td>\n",
       "      <td>93</td>\n",
       "      <td>278</td>\n",
       "      <td>92.666667</td>\n",
       "    </tr>\n",
       "    <tr>\n",
       "      <th>3</th>\n",
       "      <td>male</td>\n",
       "      <td>group A</td>\n",
       "      <td>associate's degree</td>\n",
       "      <td>free/reduced</td>\n",
       "      <td>none</td>\n",
       "      <td>47</td>\n",
       "      <td>57</td>\n",
       "      <td>44</td>\n",
       "      <td>148</td>\n",
       "      <td>49.333333</td>\n",
       "    </tr>\n",
       "    <tr>\n",
       "      <th>4</th>\n",
       "      <td>male</td>\n",
       "      <td>group C</td>\n",
       "      <td>some college</td>\n",
       "      <td>standard</td>\n",
       "      <td>none</td>\n",
       "      <td>76</td>\n",
       "      <td>78</td>\n",
       "      <td>75</td>\n",
       "      <td>229</td>\n",
       "      <td>76.333333</td>\n",
       "    </tr>\n",
       "  </tbody>\n",
       "</table>\n",
       "</div>"
      ],
      "text/plain": [
       "   gender race_ethnicity parental_level_of_education         lunch  \\\n",
       "0  female        group B           bachelor's degree      standard   \n",
       "1  female        group C                some college      standard   \n",
       "2  female        group B             master's degree      standard   \n",
       "3    male        group A          associate's degree  free/reduced   \n",
       "4    male        group C                some college      standard   \n",
       "\n",
       "  test_preparation_course  math_score  reading_score  writing_score  \\\n",
       "0                    none          72             72             74   \n",
       "1               completed          69             90             88   \n",
       "2                    none          90             95             93   \n",
       "3                    none          47             57             44   \n",
       "4                    none          76             78             75   \n",
       "\n",
       "   total_score  avg_score  \n",
       "0          218  72.666667  \n",
       "1          247  82.333333  \n",
       "2          278  92.666667  \n",
       "3          148  49.333333  \n",
       "4          229  76.333333  "
      ]
     },
     "execution_count": 30,
     "metadata": {},
     "output_type": "execute_result"
    }
   ],
   "source": [
    "# new 'total_score' and 'avg_score' columns\n",
    "\n",
    "df[\"total_score\"] = (df[\"math_score\"] + df[\"writing_score\"] + df[\"reading_score\"]) ## Total score in 3 tests\n",
    "df[\"avg_score\"] = (df[\"math_score\"] + df[\"writing_score\"] + df[\"reading_score\"])/3 ## Average score in 3 tests\n",
    "\n",
    "# check top five rows\n",
    "df.head()"
   ]
  },
  {
   "cell_type": "code",
   "execution_count": null,
   "id": "35ecad97",
   "metadata": {},
   "outputs": [],
   "source": []
  },
  {
   "cell_type": "code",
   "execution_count": null,
   "id": "dfae402f",
   "metadata": {},
   "outputs": [],
   "source": []
  },
  {
   "cell_type": "code",
   "execution_count": null,
   "id": "ec3e482b",
   "metadata": {},
   "outputs": [],
   "source": []
  }
 ],
 "metadata": {
  "kernelspec": {
   "display_name": "Python 3 (ipykernel)",
   "language": "python",
   "name": "python3"
  },
  "language_info": {
   "codemirror_mode": {
    "name": "ipython",
    "version": 3
   },
   "file_extension": ".py",
   "mimetype": "text/x-python",
   "name": "python",
   "nbconvert_exporter": "python",
   "pygments_lexer": "ipython3",
   "version": "3.11.0"
  }
 },
 "nbformat": 4,
 "nbformat_minor": 5
}
